{
 "cells": [
  {
   "cell_type": "markdown",
   "metadata": {},
   "source": [
    "# Прогноз результатов матчей на основе TrueSkill\n",
    "\n",
    "Загружаем нужные библиотеки."
   ]
  },
  {
   "cell_type": "code",
   "execution_count": 1,
   "metadata": {
    "collapsed": true
   },
   "outputs": [],
   "source": [
    "import pandas as pd\n",
    "import trueskill\n",
    "\n",
    "from math import sqrt, log, log2\n",
    "from trueskill import BETA\n",
    "from trueskill.backends import cdf"
   ]
  },
  {
   "cell_type": "markdown",
   "metadata": {},
   "source": [
    "Загружаем информацию про результаты игр, скачанную с http://dotascience.com/ и сразу сортируем по Match_ID."
   ]
  },
  {
   "cell_type": "code",
   "execution_count": 2,
   "metadata": {
    "collapsed": true
   },
   "outputs": [],
   "source": [
    "matches_info = pd.read_csv('selected_team_matches.csv').sort(['match_id'])"
   ]
  },
  {
   "cell_type": "markdown",
   "metadata": {},
   "source": [
    "Инициализируем параметры Trueskill используя параметры по умолчанию, кроме вероятность ничейного результата, у нас не бывает ничьих."
   ]
  },
  {
   "cell_type": "code",
   "execution_count": 3,
   "metadata": {
    "collapsed": false
   },
   "outputs": [
    {
     "data": {
      "text/plain": [
       "trueskill.TrueSkill(mu=25.000, sigma=8.333, beta=4.167, tau=0.083, draw_probability=0.0%)"
      ]
     },
     "execution_count": 3,
     "metadata": {},
     "output_type": "execute_result"
    }
   ],
   "source": [
    "trueskill.setup(draw_probability=0)"
   ]
  },
  {
   "cell_type": "markdown",
   "metadata": {},
   "source": [
    "Создадим словарик, где будем хранить рейтинги. И обучим нашу систему. Для каждого матча мы определим победителя и пересчитаем рейтинги комманд. Если команда раньше не встречалась задаем ей рейтинг по умочанию. В нашей простейшей модели мы считаем, что каждая команда это один виртуальный игрок."
   ]
  },
  {
   "cell_type": "code",
   "execution_count": 6,
   "metadata": {
    "collapsed": false
   },
   "outputs": [],
   "source": [
    "Rates = {}\n",
    "for index, row in matches_info.iterrows():\n",
    "    team1 = row['radiant']\n",
    "    team2 = row['dire']\n",
    "    if team1 not in Rates:\n",
    "        Rates[team1] = trueskill.Rating()\n",
    "    if team2 not in Rates:\n",
    "        Rates[team2] = trueskill.Rating()\n",
    "    if row['winner'] == 'RADIANT':\n",
    "        Rates[team1], Rates[team2] = trueskill.rate_1vs1(Rates[team1], Rates[team2])\n",
    "    else:\n",
    "        Rates[team2], Rates[team1] = trueskill.rate_1vs1(Rates[team2], Rates[team1])\n",
    "        "
   ]
  },
  {
   "cell_type": "markdown",
   "metadata": {},
   "source": [
    "Теперь мы можем, например, насладится рейтингом команты Virtus.pro, которая скрывается под тагом 'VP 2' "
   ]
  },
  {
   "cell_type": "code",
   "execution_count": 7,
   "metadata": {
    "collapsed": false
   },
   "outputs": [
    {
     "data": {
      "text/latex": [
       "$\\mathcal{ N }( 32.329, 0.799^2 )$"
      ],
      "text/plain": [
       "trueskill.Rating(mu=32.329, sigma=0.799)"
      ]
     },
     "execution_count": 7,
     "metadata": {},
     "output_type": "execute_result"
    }
   ],
   "source": [
    "Rates['VP 2']"
   ]
  },
  {
   "cell_type": "markdown",
   "metadata": {},
   "source": [
    "Попробуем оценить вероятность победы Virtus.pro, например, в матче с Evil Genius.\n",
    "К сожалению в библиотеке trueskill, нет возможности оценить вероятность, но мы же знаем из описания,\n",
    "что рейтинги тут нормально распределенные. Так что сделаем функцию, которая оценит вероятность, \n",
    "что сила игры первой команды, будет больше чем у второй."
   ]
  },
  {
   "cell_type": "code",
   "execution_count": 9,
   "metadata": {
    "collapsed": true
   },
   "outputs": [],
   "source": [
    "def win_probability(player_rating, opponent_rating):\n",
    "    delta_mu = player_rating.mu - opponent_rating.mu\n",
    "    denom = sqrt(2 * (BETA * BETA) + pow(player_rating.sigma, 2) + pow(opponent_rating.sigma, 2))\n",
    "    return cdf(delta_mu / denom)"
   ]
  },
  {
   "cell_type": "markdown",
   "metadata": {},
   "source": [
    "Ура, теперь мы можем оценить шансы."
   ]
  },
  {
   "cell_type": "code",
   "execution_count": 10,
   "metadata": {
    "collapsed": false
   },
   "outputs": [
    {
     "data": {
      "text/plain": [
       "0.48257973355975936"
      ]
     },
     "execution_count": 10,
     "metadata": {},
     "output_type": "execute_result"
    }
   ],
   "source": [
    "win_probability(Rates['VP 2'], Rates['EG'])"
   ]
  },
  {
   "cell_type": "markdown",
   "metadata": {},
   "source": [
    "Система сказала, что шансы почти равные. Теперь полученную оценку можно загрузить на сайт в качетве прогноза. \n",
    "Как это сделать расказанно [тут](https://github.com/romovpa/dotascience-hackathon/blob/master/README.md)."
   ]
  }
 ],
 "metadata": {
  "kernelspec": {
   "display_name": "Python 2",
   "language": "python",
   "name": "python2"
  },
  "language_info": {
   "codemirror_mode": {
    "name": "ipython",
    "version": 2
   },
   "file_extension": ".py",
   "mimetype": "text/x-python",
   "name": "python",
   "nbconvert_exporter": "python",
   "pygments_lexer": "ipython2",
   "version": "2.7.8"
  }
 },
 "nbformat": 4,
 "nbformat_minor": 0
}
